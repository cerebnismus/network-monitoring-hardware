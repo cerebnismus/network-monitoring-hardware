{
 "cells": [
  {
   "cell_type": "markdown",
   "metadata": {},
   "source": [
    "## PYTHON TEMEL KAVRAMLAR"
   ]
  },
  {
   "cell_type": "code",
   "execution_count": 1,
   "metadata": {},
   "outputs": [
    {
     "data": {
      "text/plain": [
       "4473799120"
      ]
     },
     "execution_count": 1,
     "metadata": {},
     "output_type": "execute_result"
    }
   ],
   "source": [
    "obj = 8\n",
    "id(obj) # returns the memory location of the object"
   ]
  },
  {
   "cell_type": "code",
   "execution_count": 2,
   "metadata": {},
   "outputs": [
    {
     "data": {
      "text/plain": [
       "int"
      ]
     },
     "execution_count": 2,
     "metadata": {},
     "output_type": "execute_result"
    }
   ],
   "source": [
    "type(8) # return the type of the object passed as an argument."
   ]
  },
  {
   "cell_type": "code",
   "execution_count": 3,
   "metadata": {},
   "outputs": [
    {
     "data": {
      "text/plain": [
       "sys.float_info(max=1.7976931348623157e+308, max_exp=1024, max_10_exp=308, min=2.2250738585072014e-308, min_exp=-1021, min_10_exp=-307, dig=15, mant_dig=53, epsilon=2.220446049250313e-16, radix=2, rounds=1)"
      ]
     },
     "execution_count": 3,
     "metadata": {},
     "output_type": "execute_result"
    }
   ],
   "source": [
    "import sys\n",
    "sys.maxsize # returns the maximum integer value\n",
    "-sys.maxsize-1 # returns the minimum integer value\n",
    "sys.float_info # returns the maximum and minimum float values"
   ]
  },
  {
   "cell_type": "code",
   "execution_count": 4,
   "metadata": {},
   "outputs": [],
   "source": [
    "# unicode string python 3\n",
    "# 'str' \"str\" '''str''' \"\"\"str\"\"\"\n",
    "\n",
    "# list vs tuple\n",
    "list = [1,2,3,4,5]\n",
    "tuple = (1,2,3,\"test\")\n",
    "\n",
    "# list is mutable and tuple is immutable\n",
    "# list can be changed and tuple cannot be changed\n",
    "\n",
    "# list can be sorted\n",
    "# tuple cannot be sorted\n",
    "\n",
    "list.sort() # sorts the list\n"
   ]
  },
  {
   "cell_type": "code",
   "execution_count": 5,
   "metadata": {},
   "outputs": [
    {
     "data": {
      "text/plain": [
       "[1, 2, 3, 4, 5, 6]"
      ]
     },
     "execution_count": 5,
     "metadata": {},
     "output_type": "execute_result"
    }
   ],
   "source": [
    "# stack LIFO\n",
    "stack = [1,2,3,4,5]\n",
    "stack.append(6) # add an element to the end of the list\n",
    "stack.append(7)\n",
    "stack.pop() # remove the last element from the list\n",
    "stack"
   ]
  },
  {
   "cell_type": "code",
   "execution_count": 6,
   "metadata": {},
   "outputs": [
    {
     "data": {
      "text/plain": [
       "deque([2, 3, 4, 5, 6, 7])"
      ]
     },
     "execution_count": 6,
     "metadata": {},
     "output_type": "execute_result"
    }
   ],
   "source": [
    "# queue FIFO\n",
    "from collections import deque\n",
    "queue = deque([1,2,3,4,5])\n",
    "queue.append(6) # add an element to the end of the list\n",
    "queue.append(7)\n",
    "queue.popleft() # remove the first element from the list\n",
    "queue"
   ]
  },
  {
   "cell_type": "code",
   "execution_count": 7,
   "metadata": {},
   "outputs": [
    {
     "name": "stdout",
     "output_type": "stream",
     "text": [
      "0 Bir\n",
      "1 seyi\n",
      "2 istiyorsan\n",
      "3 pesini\n",
      "4 birakma;\n",
      "5 git\n",
      "6 ve\n",
      "7 al\n"
     ]
    }
   ],
   "source": [
    "a = ['Bir', 'seyi', 'istiyorsan', 'pesini', 'birakma;', 'git', 've', 'al']\n",
    "for i in range(len(a)):\n",
    "\t\tprint(i, a[i])"
   ]
  },
  {
   "cell_type": "code",
   "execution_count": 8,
   "metadata": {},
   "outputs": [
    {
     "data": {
      "text/plain": [
       "NoneType"
      ]
     },
     "execution_count": 8,
     "metadata": {},
     "output_type": "execute_result"
    }
   ],
   "source": [
    "# None\n",
    "# None is a special constant in Python. It is used to define a null value or a void. \n",
    "# None is not the same as 0, False, or an empty string. None is a datatype of its own (NoneType) and only None can be None.\n",
    "a = None\n",
    "type(a)"
   ]
  },
  {
   "cell_type": "code",
   "execution_count": 9,
   "metadata": {},
   "outputs": [],
   "source": [
    "# str, bytes, bytearray, list, tuple, set, frozenset, dict, int, float, complex, bool ..."
   ]
  },
  {
   "cell_type": "code",
   "execution_count": 10,
   "metadata": {},
   "outputs": [
    {
     "name": "stdout",
     "output_type": "stream",
     "text": [
      "1\n",
      "2\n",
      "3\n",
      "a\n"
     ]
    }
   ],
   "source": [
    "# iterable objects are objects that can return an iterator\n",
    "# iterator objects are objects that can be iterated upon\n",
    "\n",
    "list = [1,2,3,'a']\n",
    "list.__iter__ # returns an iterator object\n",
    "iterz = iter(list)\n",
    "for z in iterz:\n",
    "\tprint(z)"
   ]
  },
  {
   "cell_type": "code",
   "execution_count": 11,
   "metadata": {},
   "outputs": [
    {
     "data": {
      "text/plain": [
       "['__add__',\n",
       " '__class__',\n",
       " '__class_getitem__',\n",
       " '__contains__',\n",
       " '__delattr__',\n",
       " '__delitem__',\n",
       " '__dir__',\n",
       " '__doc__',\n",
       " '__eq__',\n",
       " '__format__',\n",
       " '__ge__',\n",
       " '__getattribute__',\n",
       " '__getitem__',\n",
       " '__gt__',\n",
       " '__hash__',\n",
       " '__iadd__',\n",
       " '__imul__',\n",
       " '__init__',\n",
       " '__init_subclass__',\n",
       " '__iter__',\n",
       " '__le__',\n",
       " '__len__',\n",
       " '__lt__',\n",
       " '__mul__',\n",
       " '__ne__',\n",
       " '__new__',\n",
       " '__reduce__',\n",
       " '__reduce_ex__',\n",
       " '__repr__',\n",
       " '__reversed__',\n",
       " '__rmul__',\n",
       " '__setattr__',\n",
       " '__setitem__',\n",
       " '__sizeof__',\n",
       " '__str__',\n",
       " '__subclasshook__',\n",
       " 'append',\n",
       " 'clear',\n",
       " 'copy',\n",
       " 'count',\n",
       " 'extend',\n",
       " 'index',\n",
       " 'insert',\n",
       " 'pop',\n",
       " 'remove',\n",
       " 'reverse',\n",
       " 'sort']"
      ]
     },
     "execution_count": 11,
     "metadata": {},
     "output_type": "execute_result"
    }
   ],
   "source": [
    "dir() # returns a list of all the defined names in the current scope\n",
    "dir(list) # returns a list of attributes and methods of an object\n"
   ]
  },
  {
   "cell_type": "code",
   "execution_count": 12,
   "metadata": {},
   "outputs": [
    {
     "data": {
      "text/plain": [
       "{'__name__': '__main__',\n",
       " '__doc__': 'Automatically created module for IPython interactive environment',\n",
       " '__package__': None,\n",
       " '__loader__': None,\n",
       " '__spec__': None,\n",
       " '__builtin__': <module 'builtins' (built-in)>,\n",
       " '__builtins__': <module 'builtins' (built-in)>,\n",
       " '_ih': ['',\n",
       "  'obj = 8\\nid(obj) # returns the memory location of the object',\n",
       "  'type(8) # return the type of the object passed as an argument.',\n",
       "  'import sys\\nsys.maxsize # returns the maximum integer value\\n-sys.maxsize-1 # returns the minimum integer value\\nsys.float_info # returns the maximum and minimum float values',\n",
       "  '# unicode string python 3\\n# \\'str\\' \"str\" \\'\\'\\'str\\'\\'\\' \"\"\"str\"\"\"\\n\\n# list vs tuple\\nlist = [1,2,3,4,5]\\ntuple = (1,2,3,\"test\")\\n\\n# list is mutable and tuple is immutable\\n# list can be changed and tuple cannot be changed\\n\\n# list can be sorted\\n# tuple cannot be sorted\\n\\nlist.sort() # sorts the list',\n",
       "  '# stack LIFO\\nstack = [1,2,3,4,5]\\nstack.append(6) # add an element to the end of the list\\nstack.append(7)\\nstack.pop() # remove the last element from the list\\nstack',\n",
       "  '# queue FIFO\\nfrom collections import deque\\nqueue = deque([1,2,3,4,5])\\nqueue.append(6) # add an element to the end of the list\\nqueue.append(7)\\nqueue.popleft() # remove the first element from the list\\nqueue',\n",
       "  \"a = ['Bir', 'seyi', 'istiyorsan', 'pesini', 'birakma;', 'git', 've', 'al']\\nfor i in range(len(a)):\\n\\t\\tprint(i, a[i])\",\n",
       "  '# None\\n# None is a special constant in Python. It is used to define a null value or a void. \\n# None is not the same as 0, False, or an empty string. None is a datatype of its own (NoneType) and only None can be None.\\na = None\\ntype(a)',\n",
       "  '# str, bytes, bytearray, list, tuple, set, frozenset, dict, int, float, complex, bool ...',\n",
       "  \"# iterable objects are objects that can return an iterator\\n# iterator objects are objects that can be iterated upon\\n\\nlist = [1,2,3,'a']\\nlist.__iter__ # returns an iterator object\\niterz = iter(list)\\nfor z in iterz:\\n\\tprint(z)\",\n",
       "  'dir() # returns a list of all the defined names in the current scope\\ndir(list) # returns a list of attributes and methods of an object',\n",
       "  'globals() # returns a dictionary of all the defined names in the current scope'],\n",
       " '_oh': {1: 4473799120,\n",
       "  2: int,\n",
       "  3: sys.float_info(max=1.7976931348623157e+308, max_exp=1024, max_10_exp=308, min=2.2250738585072014e-308, min_exp=-1021, min_10_exp=-307, dig=15, mant_dig=53, epsilon=2.220446049250313e-16, radix=2, rounds=1),\n",
       "  5: [1, 2, 3, 4, 5, 6],\n",
       "  6: deque([2, 3, 4, 5, 6, 7]),\n",
       "  8: NoneType,\n",
       "  11: ['__add__',\n",
       "   '__class__',\n",
       "   '__class_getitem__',\n",
       "   '__contains__',\n",
       "   '__delattr__',\n",
       "   '__delitem__',\n",
       "   '__dir__',\n",
       "   '__doc__',\n",
       "   '__eq__',\n",
       "   '__format__',\n",
       "   '__ge__',\n",
       "   '__getattribute__',\n",
       "   '__getitem__',\n",
       "   '__gt__',\n",
       "   '__hash__',\n",
       "   '__iadd__',\n",
       "   '__imul__',\n",
       "   '__init__',\n",
       "   '__init_subclass__',\n",
       "   '__iter__',\n",
       "   '__le__',\n",
       "   '__len__',\n",
       "   '__lt__',\n",
       "   '__mul__',\n",
       "   '__ne__',\n",
       "   '__new__',\n",
       "   '__reduce__',\n",
       "   '__reduce_ex__',\n",
       "   '__repr__',\n",
       "   '__reversed__',\n",
       "   '__rmul__',\n",
       "   '__setattr__',\n",
       "   '__setitem__',\n",
       "   '__sizeof__',\n",
       "   '__str__',\n",
       "   '__subclasshook__',\n",
       "   'append',\n",
       "   'clear',\n",
       "   'copy',\n",
       "   'count',\n",
       "   'extend',\n",
       "   'index',\n",
       "   'insert',\n",
       "   'pop',\n",
       "   'remove',\n",
       "   'reverse',\n",
       "   'sort']},\n",
       " '_dh': [PosixPath('/Users/macbook/Desktop/Ibrahim Python'),\n",
       "  PosixPath('/Users/macbook/Desktop/Ibrahim Python')],\n",
       " 'In': ['',\n",
       "  'obj = 8\\nid(obj) # returns the memory location of the object',\n",
       "  'type(8) # return the type of the object passed as an argument.',\n",
       "  'import sys\\nsys.maxsize # returns the maximum integer value\\n-sys.maxsize-1 # returns the minimum integer value\\nsys.float_info # returns the maximum and minimum float values',\n",
       "  '# unicode string python 3\\n# \\'str\\' \"str\" \\'\\'\\'str\\'\\'\\' \"\"\"str\"\"\"\\n\\n# list vs tuple\\nlist = [1,2,3,4,5]\\ntuple = (1,2,3,\"test\")\\n\\n# list is mutable and tuple is immutable\\n# list can be changed and tuple cannot be changed\\n\\n# list can be sorted\\n# tuple cannot be sorted\\n\\nlist.sort() # sorts the list',\n",
       "  '# stack LIFO\\nstack = [1,2,3,4,5]\\nstack.append(6) # add an element to the end of the list\\nstack.append(7)\\nstack.pop() # remove the last element from the list\\nstack',\n",
       "  '# queue FIFO\\nfrom collections import deque\\nqueue = deque([1,2,3,4,5])\\nqueue.append(6) # add an element to the end of the list\\nqueue.append(7)\\nqueue.popleft() # remove the first element from the list\\nqueue',\n",
       "  \"a = ['Bir', 'seyi', 'istiyorsan', 'pesini', 'birakma;', 'git', 've', 'al']\\nfor i in range(len(a)):\\n\\t\\tprint(i, a[i])\",\n",
       "  '# None\\n# None is a special constant in Python. It is used to define a null value or a void. \\n# None is not the same as 0, False, or an empty string. None is a datatype of its own (NoneType) and only None can be None.\\na = None\\ntype(a)',\n",
       "  '# str, bytes, bytearray, list, tuple, set, frozenset, dict, int, float, complex, bool ...',\n",
       "  \"# iterable objects are objects that can return an iterator\\n# iterator objects are objects that can be iterated upon\\n\\nlist = [1,2,3,'a']\\nlist.__iter__ # returns an iterator object\\niterz = iter(list)\\nfor z in iterz:\\n\\tprint(z)\",\n",
       "  'dir() # returns a list of all the defined names in the current scope\\ndir(list) # returns a list of attributes and methods of an object',\n",
       "  'globals() # returns a dictionary of all the defined names in the current scope'],\n",
       " 'Out': {1: 4473799120,\n",
       "  2: int,\n",
       "  3: sys.float_info(max=1.7976931348623157e+308, max_exp=1024, max_10_exp=308, min=2.2250738585072014e-308, min_exp=-1021, min_10_exp=-307, dig=15, mant_dig=53, epsilon=2.220446049250313e-16, radix=2, rounds=1),\n",
       "  5: [1, 2, 3, 4, 5, 6],\n",
       "  6: deque([2, 3, 4, 5, 6, 7]),\n",
       "  8: NoneType,\n",
       "  11: ['__add__',\n",
       "   '__class__',\n",
       "   '__class_getitem__',\n",
       "   '__contains__',\n",
       "   '__delattr__',\n",
       "   '__delitem__',\n",
       "   '__dir__',\n",
       "   '__doc__',\n",
       "   '__eq__',\n",
       "   '__format__',\n",
       "   '__ge__',\n",
       "   '__getattribute__',\n",
       "   '__getitem__',\n",
       "   '__gt__',\n",
       "   '__hash__',\n",
       "   '__iadd__',\n",
       "   '__imul__',\n",
       "   '__init__',\n",
       "   '__init_subclass__',\n",
       "   '__iter__',\n",
       "   '__le__',\n",
       "   '__len__',\n",
       "   '__lt__',\n",
       "   '__mul__',\n",
       "   '__ne__',\n",
       "   '__new__',\n",
       "   '__reduce__',\n",
       "   '__reduce_ex__',\n",
       "   '__repr__',\n",
       "   '__reversed__',\n",
       "   '__rmul__',\n",
       "   '__setattr__',\n",
       "   '__setitem__',\n",
       "   '__sizeof__',\n",
       "   '__str__',\n",
       "   '__subclasshook__',\n",
       "   'append',\n",
       "   'clear',\n",
       "   'copy',\n",
       "   'count',\n",
       "   'extend',\n",
       "   'index',\n",
       "   'insert',\n",
       "   'pop',\n",
       "   'remove',\n",
       "   'reverse',\n",
       "   'sort']},\n",
       " 'get_ipython': <bound method InteractiveShell.get_ipython of <ipykernel.zmqshell.ZMQInteractiveShell object at 0x10dae5fc0>>,\n",
       " 'exit': <IPython.core.autocall.ZMQExitAutocall at 0x10dae6b00>,\n",
       " 'quit': <IPython.core.autocall.ZMQExitAutocall at 0x10dae6b00>,\n",
       " 'open': <function io.open(file, mode='r', buffering=-1, encoding=None, errors=None, newline=None, closefd=True, opener=None)>,\n",
       " '_': ['__add__',\n",
       "  '__class__',\n",
       "  '__class_getitem__',\n",
       "  '__contains__',\n",
       "  '__delattr__',\n",
       "  '__delitem__',\n",
       "  '__dir__',\n",
       "  '__doc__',\n",
       "  '__eq__',\n",
       "  '__format__',\n",
       "  '__ge__',\n",
       "  '__getattribute__',\n",
       "  '__getitem__',\n",
       "  '__gt__',\n",
       "  '__hash__',\n",
       "  '__iadd__',\n",
       "  '__imul__',\n",
       "  '__init__',\n",
       "  '__init_subclass__',\n",
       "  '__iter__',\n",
       "  '__le__',\n",
       "  '__len__',\n",
       "  '__lt__',\n",
       "  '__mul__',\n",
       "  '__ne__',\n",
       "  '__new__',\n",
       "  '__reduce__',\n",
       "  '__reduce_ex__',\n",
       "  '__repr__',\n",
       "  '__reversed__',\n",
       "  '__rmul__',\n",
       "  '__setattr__',\n",
       "  '__setitem__',\n",
       "  '__sizeof__',\n",
       "  '__str__',\n",
       "  '__subclasshook__',\n",
       "  'append',\n",
       "  'clear',\n",
       "  'copy',\n",
       "  'count',\n",
       "  'extend',\n",
       "  'index',\n",
       "  'insert',\n",
       "  'pop',\n",
       "  'remove',\n",
       "  'reverse',\n",
       "  'sort'],\n",
       " '__': NoneType,\n",
       " '___': deque([2, 3, 4, 5, 6, 7]),\n",
       " 'os': <module 'os' from '/usr/local/Cellar/python@3.10/3.10.8/Frameworks/Python.framework/Versions/3.10/lib/python3.10/os.py'>,\n",
       " 'sys': <module 'sys' (built-in)>,\n",
       " '__vsc_ipynb_file__': '/Users/macbook/Desktop/Ibrahim Python/Basics_1.ipynb',\n",
       " '_i': 'dir() # returns a list of all the defined names in the current scope\\ndir(list) # returns a list of attributes and methods of an object',\n",
       " '_ii': \"# iterable objects are objects that can return an iterator\\n# iterator objects are objects that can be iterated upon\\n\\nlist = [1,2,3,'a']\\nlist.__iter__ # returns an iterator object\\niterz = iter(list)\\nfor z in iterz:\\n\\tprint(z)\",\n",
       " '_iii': '# str, bytes, bytearray, list, tuple, set, frozenset, dict, int, float, complex, bool ...',\n",
       " '_i1': 'obj = 8\\nid(obj) # returns the memory location of the object',\n",
       " 'obj': 8,\n",
       " '_1': 4473799120,\n",
       " '_i2': 'type(8) # return the type of the object passed as an argument.',\n",
       " '_2': int,\n",
       " '_i3': 'import sys\\nsys.maxsize # returns the maximum integer value\\n-sys.maxsize-1 # returns the minimum integer value\\nsys.float_info # returns the maximum and minimum float values',\n",
       " '_3': sys.float_info(max=1.7976931348623157e+308, max_exp=1024, max_10_exp=308, min=2.2250738585072014e-308, min_exp=-1021, min_10_exp=-307, dig=15, mant_dig=53, epsilon=2.220446049250313e-16, radix=2, rounds=1),\n",
       " '_i4': '# unicode string python 3\\n# \\'str\\' \"str\" \\'\\'\\'str\\'\\'\\' \"\"\"str\"\"\"\\n\\n# list vs tuple\\nlist = [1,2,3,4,5]\\ntuple = (1,2,3,\"test\")\\n\\n# list is mutable and tuple is immutable\\n# list can be changed and tuple cannot be changed\\n\\n# list can be sorted\\n# tuple cannot be sorted\\n\\nlist.sort() # sorts the list',\n",
       " 'list': [1, 2, 3, 'a'],\n",
       " 'tuple': (1, 2, 3, 'test'),\n",
       " '_i5': '# stack LIFO\\nstack = [1,2,3,4,5]\\nstack.append(6) # add an element to the end of the list\\nstack.append(7)\\nstack.pop() # remove the last element from the list\\nstack',\n",
       " 'stack': [1, 2, 3, 4, 5, 6],\n",
       " '_5': [1, 2, 3, 4, 5, 6],\n",
       " '_i6': '# queue FIFO\\nfrom collections import deque\\nqueue = deque([1,2,3,4,5])\\nqueue.append(6) # add an element to the end of the list\\nqueue.append(7)\\nqueue.popleft() # remove the first element from the list\\nqueue',\n",
       " 'deque': collections.deque,\n",
       " 'queue': deque([2, 3, 4, 5, 6, 7]),\n",
       " '_6': deque([2, 3, 4, 5, 6, 7]),\n",
       " '_i7': \"a = ['Bir', 'seyi', 'istiyorsan', 'pesini', 'birakma;', 'git', 've', 'al']\\nfor i in range(len(a)):\\n\\t\\tprint(i, a[i])\",\n",
       " 'a': None,\n",
       " 'i': 7,\n",
       " '_i8': '# None\\n# None is a special constant in Python. It is used to define a null value or a void. \\n# None is not the same as 0, False, or an empty string. None is a datatype of its own (NoneType) and only None can be None.\\na = None\\ntype(a)',\n",
       " '_8': NoneType,\n",
       " '_i9': '# str, bytes, bytearray, list, tuple, set, frozenset, dict, int, float, complex, bool ...',\n",
       " '_i10': \"# iterable objects are objects that can return an iterator\\n# iterator objects are objects that can be iterated upon\\n\\nlist = [1,2,3,'a']\\nlist.__iter__ # returns an iterator object\\niterz = iter(list)\\nfor z in iterz:\\n\\tprint(z)\",\n",
       " 'iterz': <list_iterator at 0x110722c50>,\n",
       " 'z': 'a',\n",
       " '_i11': 'dir() # returns a list of all the defined names in the current scope\\ndir(list) # returns a list of attributes and methods of an object',\n",
       " '_11': ['__add__',\n",
       "  '__class__',\n",
       "  '__class_getitem__',\n",
       "  '__contains__',\n",
       "  '__delattr__',\n",
       "  '__delitem__',\n",
       "  '__dir__',\n",
       "  '__doc__',\n",
       "  '__eq__',\n",
       "  '__format__',\n",
       "  '__ge__',\n",
       "  '__getattribute__',\n",
       "  '__getitem__',\n",
       "  '__gt__',\n",
       "  '__hash__',\n",
       "  '__iadd__',\n",
       "  '__imul__',\n",
       "  '__init__',\n",
       "  '__init_subclass__',\n",
       "  '__iter__',\n",
       "  '__le__',\n",
       "  '__len__',\n",
       "  '__lt__',\n",
       "  '__mul__',\n",
       "  '__ne__',\n",
       "  '__new__',\n",
       "  '__reduce__',\n",
       "  '__reduce_ex__',\n",
       "  '__repr__',\n",
       "  '__reversed__',\n",
       "  '__rmul__',\n",
       "  '__setattr__',\n",
       "  '__setitem__',\n",
       "  '__sizeof__',\n",
       "  '__str__',\n",
       "  '__subclasshook__',\n",
       "  'append',\n",
       "  'clear',\n",
       "  'copy',\n",
       "  'count',\n",
       "  'extend',\n",
       "  'index',\n",
       "  'insert',\n",
       "  'pop',\n",
       "  'remove',\n",
       "  'reverse',\n",
       "  'sort'],\n",
       " '_i12': 'globals() # returns a dictionary of all the defined names in the current scope'}"
      ]
     },
     "execution_count": 12,
     "metadata": {},
     "output_type": "execute_result"
    }
   ],
   "source": [
    "globals() # returns a dictionary of all the defined names in the current scope"
   ]
  },
  {
   "cell_type": "code",
   "execution_count": 13,
   "metadata": {},
   "outputs": [],
   "source": [
    "# locals() # returns a dictionary of all the defined names in the current scope"
   ]
  },
  {
   "cell_type": "code",
   "execution_count": 14,
   "metadata": {},
   "outputs": [
    {
     "ename": "AssertionError",
     "evalue": "",
     "output_type": "error",
     "traceback": [
      "\u001b[0;31m---------------------------------------------------------------------------\u001b[0m",
      "\u001b[0;31mAssertionError\u001b[0m                            Traceback (most recent call last)",
      "Cell \u001b[0;32mIn [14], line 7\u001b[0m\n\u001b[1;32m      5\u001b[0m \u001b[39mif\u001b[39;00m __debug__:\n\u001b[1;32m      6\u001b[0m \t\u001b[39massert\u001b[39;00m \u001b[39m1\u001b[39m \u001b[39m==\u001b[39m \u001b[39m1\u001b[39m \u001b[39m# no error\u001b[39;00m\n\u001b[0;32m----> 7\u001b[0m \t\u001b[39massert\u001b[39;00m \u001b[39m1\u001b[39m \u001b[39m==\u001b[39m \u001b[39m2\u001b[39m \u001b[39m# AssertionError\u001b[39;00m\n",
      "\u001b[0;31mAssertionError\u001b[0m: "
     ]
    }
   ],
   "source": [
    "# __debug__ is a built-in variable that evaluates to True if Python is not run with the -O option.\n",
    "# for example, assert statements are ignored if __debug__ is False\n",
    "# assert statement is used to check if a condition is true or false\n",
    "assert __debug__ == True\n",
    "if __debug__:\n",
    "\tassert 1 == 1 # no error\n",
    "\tassert 1 == 2 # AssertionError"
   ]
  },
  {
   "cell_type": "code",
   "execution_count": null,
   "metadata": {},
   "outputs": [],
   "source": [
    "import os, sys\n",
    "os._exit(0) # exit the program immediately, normal way of exiting a program\n",
    "sys.exit(0)\n",
    "\n"
   ]
  },
  {
   "cell_type": "code",
   "execution_count": null,
   "metadata": {},
   "outputs": [
    {
     "name": "stdout",
     "output_type": "stream",
     "text": [
      " 1   1    1\n",
      " 2   4    8\n",
      " 3   9   27\n",
      " 4  16   64\n",
      " 5  25  125\n",
      " 6  36  216\n",
      " 7  49  343\n",
      " 8  64  512\n",
      " 9  81  729\n",
      "10 100 1000\n"
     ]
    }
   ],
   "source": [
    "# repr() returns a printable representation of an object\n",
    "for x in range(1, 11):\n",
    "\tprint(repr(x).rjust(2), repr(x*x).rjust(3), end=' ')\n",
    "\t# Note use of 'end' on previous line\n",
    "\tprint(repr(x*x*x).rjust(4))"
   ]
  },
  {
   "cell_type": "code",
   "execution_count": null,
   "metadata": {},
   "outputs": [
    {
     "name": "stdout",
     "output_type": "stream",
     "text": [
      " 1   1    1\n",
      " 2   4    8\n",
      " 3   9   27\n",
      " 4  16   64\n",
      " 5  25  125\n",
      " 6  36  216\n",
      " 7  49  343\n",
      " 8  64  512\n",
      " 9  81  729\n",
      "10 100 1000\n"
     ]
    }
   ],
   "source": [
    "# format() returns a formatted representation of an object\n",
    "for x in range(1, 11):\n",
    "\tprint('{0:2d} {1:3d} {2:4d}'.format(x, x*x, x*x*x))"
   ]
  },
  {
   "cell_type": "code",
   "execution_count": null,
   "metadata": {},
   "outputs": [
    {
     "name": "stdout",
     "output_type": "stream",
     "text": [
      "  1   2   3   4   5   6   7   8   9  10 \n",
      "  2   4   6   8  10  12  14  16  18  20 \n",
      "  3   6   9  12  15  18  21  24  27  30 \n",
      "  4   8  12  16  20  24  28  32  36  40 \n",
      "  5  10  15  20  25  30  35  40  45  50 \n",
      "  6  12  18  24  30  36  42  48  54  60 \n",
      "  7  14  21  28  35  42  49  56  63  70 \n",
      "  8  16  24  32  40  48  56  64  72  80 \n",
      "  9  18  27  36  45  54  63  72  81  90 \n",
      " 10  20  30  40  50  60  70  80  90 100 \n"
     ]
    }
   ],
   "source": [
    "# matrix table\n",
    "for row in range(1, 11):\n",
    "  for column in range(1, 11):\n",
    "    print('{0:3d} '.format(row*column), end='\\n' if column == 10 else '')"
   ]
  },
  {
   "cell_type": "code",
   "execution_count": null,
   "metadata": {},
   "outputs": [
    {
     "name": "stdout",
     "output_type": "stream",
     "text": [
      "{'A': [('Ali', '0001'), ('Veli', '0002')], 'B': [('Selami', '0003'), ('Ayşe', '0004')], 'C': [('Fatma', '0005'), ('Ahmet', '0006')]}\n"
     ]
    }
   ],
   "source": [
    "# Dictionary Case\n",
    "students = [('A', 'Ali', '0001'),\n",
    "\t\t\t\t\t\t('A', 'Veli', '0002'),\n",
    "\t\t\t\t\t\t('B', 'Selami', '0003'),\n",
    "\t\t\t\t\t\t('B', 'Ayşe', '0004'),\n",
    "\t\t\t\t\t\t('C', 'Fatma', '0005'),\n",
    "\t\t\t\t\t\t('C', 'Ahmet', '0006')]\n",
    "\n",
    "classrooms = {}\n",
    "\n",
    "for classroom, name, id in students:\n",
    "\tclassrooms.setdefault(classroom, []).append((name, id))\n",
    "\n",
    "print(classrooms)\n"
   ]
  },
  {
   "cell_type": "code",
   "execution_count": null,
   "metadata": {},
   "outputs": [
    {
     "name": "stdout",
     "output_type": "stream",
     "text": [
      "For loop version: 547.1220016479492ms\n",
      "Vectorized version: 1.6260147094726562ms\n"
     ]
    }
   ],
   "source": [
    "# vectoral & scalar operations comparison\n",
    "import numpy as np\n",
    "import time\n",
    "\n",
    "x = np.random.rand(1000000)\n",
    "y = np.random.rand(1000000)\n",
    "z = 0\n",
    "\n",
    "tic = time.time()\n",
    "for i in range(1000000):\n",
    "\tz += x[i] + y[i]\n",
    "toc = time.time()\n",
    "\n",
    "print(\"For loop version: \" + str(1000*(toc-tic)) + \"ms\")\n",
    "\n",
    "tic = time.time()\n",
    "z = np.dot(x,y)\n",
    "toc = time.time()\n",
    "\n",
    "print(\"Vectorized version: \" + str(1000*(toc-tic)) + \"ms\")\n"
   ]
  },
  {
   "cell_type": "code",
   "execution_count": null,
   "metadata": {},
   "outputs": [
    {
     "name": "stdout",
     "output_type": "stream",
     "text": [
      "[2, 4, 6, 8, 10]\n",
      "For loop version: 0.7939338684082031ms\n",
      "\n",
      "[2, 4, 6, 8, 10]\n",
      "List comprehension version: 0.10776519775390625ms\n"
     ]
    }
   ],
   "source": [
    "import time\n",
    "\n",
    "# loop in list\n",
    "list1 = [1,2,3,4,5]\n",
    "list2 = []\n",
    "\n",
    "# multiply each element in the list by 2 \n",
    "tic = time.time()\n",
    "for i in list1:\n",
    "\tlist2.append(i*2)\n",
    "print(list2)\n",
    "toc = time.time()\n",
    "print(\"For loop version: \" + str(1000*(toc-tic)) + \"ms\\n\")\n",
    "\n",
    "tic = time.time()\n",
    "multip2 = [i*2 for i in list1]\n",
    "print(multip2)\n",
    "toc = time.time()\n",
    "print(\"List comprehension version: \" + str(1000*(toc-tic)) + \"ms\")\n"
   ]
  },
  {
   "cell_type": "code",
   "execution_count": null,
   "metadata": {},
   "outputs": [
    {
     "name": "stdout",
     "output_type": "stream",
     "text": [
      "{'Istanbul': 8, 'Ankara': 6, 'Izmir': 5, 'Bursa': 5, 'Antalya': 7}\n"
     ]
    }
   ],
   "source": [
    "# dict loop\n",
    "cities = ['Istanbul', 'Ankara', 'Izmir', 'Bursa', 'Antalya']\n",
    "city_dict = {city: len(city) for city in cities}\n",
    "print(city_dict)"
   ]
  },
  {
   "cell_type": "code",
   "execution_count": null,
   "metadata": {},
   "outputs": [
    {
     "name": "stdout",
     "output_type": "stream",
     "text": [
      "Congratulations John! You are 25 years old.\n"
     ]
    }
   ],
   "source": [
    "def congrats(name, age):\n",
    "\tprint(\"Congratulations {}! You are {} years old.\".format(name, age))\n",
    " \n",
    "congrats(\"John\", 25)"
   ]
  },
  {
   "cell_type": "code",
   "execution_count": null,
   "metadata": {},
   "outputs": [
    {
     "data": {
      "text/plain": [
       "25"
      ]
     },
     "execution_count": 66,
     "metadata": {},
     "output_type": "execute_result"
    }
   ],
   "source": [
    "# lambda functions\n",
    "square = lambda x: x*x\n",
    "square(5)"
   ]
  },
  {
   "cell_type": "code",
   "execution_count": null,
   "metadata": {},
   "outputs": [
    {
     "name": "stdout",
     "output_type": "stream",
     "text": [
      "[1, 4, 9, 16, 25]\n"
     ]
    }
   ],
   "source": [
    "#lamda functions with map\n",
    "# map: applies a function to all the items in an input_list\n",
    "def square(x):\n",
    "\treturn x*x\n",
    "\n",
    "nums = [1,2,3,4,5]\n",
    "result = map(square, nums)\n",
    "# map results are not stored in memory and can be iterated over only once and are not indexable\n",
    "# thats why we need to convert it to a list or tuple or set or dict etc.\n",
    "result_list = list(result)\n",
    "print(result_list)"
   ]
  },
  {
   "cell_type": "code",
   "execution_count": null,
   "metadata": {},
   "outputs": [
    {
     "name": "stdout",
     "output_type": "stream",
     "text": [
      "[1, 3, 5, 7, 9]\n",
      "Without Lambda version: 1.0898113250732422ms\n",
      "\n",
      "[1, 3, 5, 7, 9]\n",
      "With Lambda version: 0.2570152282714844ms\n"
     ]
    }
   ],
   "source": [
    "# with filter\n",
    "def odd(x):\n",
    "\tif x%2 == 0:\n",
    "\t\treturn False\n",
    "\telse:\n",
    "\t\treturn True\n",
    "\n",
    "import time\n",
    "tic = time.time()\n",
    "nums = [1,2,3,4,5,6,7,8,9,10]\n",
    "odd_nums = list(filter(odd, nums))\n",
    "print(odd_nums)\n",
    "toc = time.time()\n",
    "print(\"Without Lambda version: \" + str(1000*(toc-tic)) + \"ms\\n\")\n",
    "\n",
    "# with lambda\n",
    "tic = time.time()\n",
    "nums = [1,2,3,4,5,6,7,8,9,10]\n",
    "odd_nums = list(filter(lambda x: x%2 == 1, nums))\n",
    "print(odd_nums)\n",
    "toc = time.time()\n",
    "print(\"With Lambda version: \" + str(1000*(toc-tic)) + \"ms\")"
   ]
  },
  {
   "cell_type": "code",
   "execution_count": null,
   "metadata": {},
   "outputs": [
    {
     "name": "stdout",
     "output_type": "stream",
     "text": [
      "John & Mary & Peter & Susan & Mike\n"
     ]
    }
   ],
   "source": [
    "# reduce function\n",
    "# difference between map and reduce is that map applies a function to all the items in an input_list and produces a list as output \n",
    "# whereas reduce applies a rolling computation to sequential pairs of values in a list and produces a single value as output \n",
    "from functools import reduce\n",
    "staffs = ['John', 'Mary', 'Peter', 'Susan', 'Mike']\n",
    "all_staffs = reduce(lambda staffs1, staffs2: staffs1 + ' & ' + staffs2, staffs)\n",
    "print(all_staffs)"
   ]
  },
  {
   "cell_type": "code",
   "execution_count": null,
   "metadata": {},
   "outputs": [],
   "source": [
    "# As you can see, when we use lambda functions with map, filter and reduce, we don’t need to define and name the functions separately.\n",
    "# And we don’t need to call them separately either. We can just define them on the fly and use them right away.\n",
    "# This is the beauty of lambda functions. They are very useful when we need to use a function only once.\n",
    "# We don't need to use for or while loops to iterate over a list. We can use map, filter and reduce functions instead.\n",
    "# Also, it's faster than for and while loops !"
   ]
  },
  {
   "cell_type": "code",
   "execution_count": null,
   "metadata": {},
   "outputs": [
    {
     "name": "stdout",
     "output_type": "stream",
     "text": [
      "625\n",
      "4\n"
     ]
    }
   ],
   "source": [
    "# scope of variables\n",
    "# import builtins; dir(builtins)\n",
    "squ = 3\n",
    "def squ_func(x):\n",
    "\tglobal squ\n",
    "\tsqu = squ + 1\n",
    "\tresult = x ** squ\n",
    "\treturn result\n",
    "\n",
    "print(squ_func(5))\n",
    "print(squ)"
   ]
  },
  {
   "cell_type": "code",
   "execution_count": 5,
   "metadata": {},
   "outputs": [
    {
     "data": {
      "text/plain": [
       "120"
      ]
     },
     "execution_count": 5,
     "metadata": {},
     "output_type": "execute_result"
    }
   ],
   "source": [
    "# other examples\n",
    "import numpy\n",
    "# help(numpy)\n",
    "\n",
    "import math\n",
    "math.log10(1000)\n",
    "\n",
    "import math as mt\n",
    "mt.log10(1000)\n",
    "\n",
    "from math import log10 as lg\n",
    "lg(1000)\n",
    "\n",
    "lg(10) + lg(100) + lg(1000)\n",
    "\n",
    "mt.factorial(5)"
   ]
  }
 ],
 "metadata": {
  "kernelspec": {
   "display_name": "Python 3.10.8 64-bit",
   "language": "python",
   "name": "python3"
  },
  "language_info": {
   "codemirror_mode": {
    "name": "ipython",
    "version": 3
   },
   "file_extension": ".py",
   "mimetype": "text/x-python",
   "name": "python",
   "nbconvert_exporter": "python",
   "pygments_lexer": "ipython3",
   "version": "3.10.8"
  },
  "orig_nbformat": 4,
  "vscode": {
   "interpreter": {
    "hash": "aee8b7b246df8f9039afb4144a1f6fd8d2ca17a180786b69acc140d282b71a49"
   }
  }
 },
 "nbformat": 4,
 "nbformat_minor": 2
}
